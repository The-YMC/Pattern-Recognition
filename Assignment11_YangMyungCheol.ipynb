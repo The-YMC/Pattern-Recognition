{
 "cells": [
  {
   "cell_type": "markdown",
   "metadata": {},
   "source": [
    "# Assignment11"
   ]
  },
  {
   "cell_type": "markdown",
   "metadata": {},
   "source": [
    "## Name: YangMyungCheol (양명철)\n",
    "## ID: 20122776\n",
    "## Submission Time: 2019.06.11. 18:05"
   ]
  },
  {
   "cell_type": "markdown",
   "metadata": {},
   "source": [
    "Build a binary classifier based on k random features for each digit against all the other digits at MNIST dataset.\n",
    "\n",
    "Let x = $(x_1, x_2, ... , x_m)$ be a vector representing an image in the dataset.\n",
    "\n",
    "The prediction function $f_d(x; w)$ is defined by the linear combination of input vector x and the model parameter w for each digit d :\n",
    "\n",
    "$f_d(x; w) = w_0 * 1 + w_1 * g_1 + w_2 * g_2 + ... + w_k * g_k $\n",
    "\n",
    "where w = $(w_0, w_1, ... , w_k)$ and the basis function $g_k$ is defined by the inner product of random vector $r_k$ and input vector x. \n",
    "\n",
    "You may want to try to use $g_k$ = max( inner production( $r_k$, x ), 0 ) to see if it improves the performance.\n",
    "\n",
    "The prediction function f_d(x; w) should have the following values:\n",
    "\n",
    "$f_d(x; w)$ = +1 if label(x) = d\n",
    "$f_d(x; w)$ = -1 if label(x) is not d\n",
    "\n",
    "The optimal model parameter w is obtained by minimizing the following objective function for each digit d :\n",
    "$\\sum_i ( f_d(x^(i); w) - y^(i) )^2$\n",
    "\n",
    "and the label of input x is given by:\n",
    "\n",
    "$argmax_d f_d(x; w)$\n",
    "\n",
    "1. Compute an optimal model parameter using the training dataset for each classifier $f_d(x, w)$\n",
    "2. Compute (1) true positive rate, (2) error rate using (1) training dataset and (2) testing dataset."
   ]
  },
  {
   "cell_type": "code",
   "execution_count": 1,
   "metadata": {},
   "outputs": [],
   "source": [
    "import pandas as pd\n",
    "import numpy as np\n",
    "import matplotlib.pyplot as plt\n",
    "import numpy.linalg as lin\n",
    "import copy \n",
    "import random\n",
    "from sklearn.metrics import confusion_matrix"
   ]
  },
  {
   "cell_type": "markdown",
   "metadata": {},
   "source": [
    "# train set"
   ]
  },
  {
   "cell_type": "code",
   "execution_count": 2,
   "metadata": {},
   "outputs": [],
   "source": [
    "tr = pd.read_csv(\"mnist_train.csv\", header=-1)"
   ]
  },
  {
   "cell_type": "code",
   "execution_count": 3,
   "metadata": {},
   "outputs": [],
   "source": [
    "tr_data = np.array(tr)"
   ]
  },
  {
   "cell_type": "code",
   "execution_count": 4,
   "metadata": {},
   "outputs": [],
   "source": [
    "tr_y, tr_x = np.split(tr_data, [1], axis=1)\n",
    "tr_y_bin = copy.copy(tr_y)"
   ]
  },
  {
   "cell_type": "code",
   "execution_count": 5,
   "metadata": {},
   "outputs": [],
   "source": [
    "number= 60000\n",
    "tr_x_short = tr_x[:number]\n",
    "yy = tr_y_bin[:number]"
   ]
  },
  {
   "cell_type": "code",
   "execution_count": 6,
   "metadata": {},
   "outputs": [],
   "source": [
    "def min_max(data):\n",
    "    result = (data-data.min()) / (data.max() - data.min())\n",
    "    return result"
   ]
  },
  {
   "cell_type": "code",
   "execution_count": 7,
   "metadata": {},
   "outputs": [],
   "source": [
    "tr_x_scale = min_max(tr_x_short)"
   ]
  },
  {
   "cell_type": "code",
   "execution_count": 8,
   "metadata": {},
   "outputs": [],
   "source": [
    "def random_array(k):\n",
    "    r_a = np.zeros((k,784))\n",
    "    for i in range(k):\n",
    "        for j in range (784):\n",
    "            r_a[i][j] = np.random.normal(0, 2)\n",
    "            \n",
    "    return r_a"
   ]
  },
  {
   "cell_type": "code",
   "execution_count": 9,
   "metadata": {},
   "outputs": [
    {
     "name": "stdout",
     "output_type": "stream",
     "text": [
      "[[ 0.16718117  2.33697363  0.09928906 ... -1.2831629   1.03461766\n",
      "   2.2791477 ]\n",
      " [-2.5368328  -1.73690939  0.9539526  ... -1.66389915  2.27111837\n",
      "  -0.1056068 ]\n",
      " [-1.74532837  3.32412085 -0.92245299 ... -4.04030082 -1.18541428\n",
      "   1.34487052]\n",
      " ...\n",
      " [ 0.06410326  0.48757782 -1.3757681  ... -2.09029987  0.91268835\n",
      "  -0.01466575]\n",
      " [-2.61534795  3.09261799 -0.28570716 ...  3.0392785  -0.08492525\n",
      "   4.54717347]\n",
      " [ 3.31715881  0.94884237 -2.17896365 ... -0.38151747 -2.06677172\n",
      "  -0.96716698]]\n"
     ]
    }
   ],
   "source": [
    "aa = random_array(1024)\n",
    "print(aa)"
   ]
  },
  {
   "cell_type": "code",
   "execution_count": 10,
   "metadata": {},
   "outputs": [],
   "source": [
    "new_A = np.dot(tr_x_scale, aa.T)"
   ]
  },
  {
   "cell_type": "code",
   "execution_count": 11,
   "metadata": {},
   "outputs": [],
   "source": [
    "def random_array_sign(A):\n",
    "    for i in range(A.shape[0]):\n",
    "        for j in range (A.shape[1]):\n",
    "            if A[i][j] < 0:\n",
    "                A[i][j] = 0\n",
    "            \n",
    "    return A"
   ]
  },
  {
   "cell_type": "code",
   "execution_count": 12,
   "metadata": {},
   "outputs": [],
   "source": [
    "new_A_sign = random_array_sign(new_A)"
   ]
  },
  {
   "cell_type": "code",
   "execution_count": 13,
   "metadata": {},
   "outputs": [
    {
     "name": "stdout",
     "output_type": "stream",
     "text": [
      "[[ 0.         13.02364076  0.         ...  0.          0.\n",
      "   0.        ]\n",
      " [ 0.         11.17808605  0.         ...  0.          0.\n",
      "   0.        ]\n",
      " [ 1.16223899  0.          0.         ...  0.          5.978483\n",
      "  16.05406721]\n",
      " ...\n",
      " [ 9.15504217 34.76248681  0.         ...  0.          0.\n",
      "   0.        ]\n",
      " [14.70890575  0.          0.         ...  0.          0.\n",
      "   3.74390344]\n",
      " [11.3635804   7.97119556  0.         ...  0.          0.\n",
      "   0.        ]]\n"
     ]
    }
   ],
   "source": [
    "print(new_A_sign)"
   ]
  },
  {
   "cell_type": "code",
   "execution_count": 14,
   "metadata": {},
   "outputs": [],
   "source": [
    "def add_bias(B):\n",
    "    one = np.ones((B.shape[0], 1))\n",
    "    A = np.concatenate((one, B),axis = 1)\n",
    "    return A"
   ]
  },
  {
   "cell_type": "code",
   "execution_count": 15,
   "metadata": {},
   "outputs": [],
   "source": [
    "new_A_bias = add_bias(new_A_sign)"
   ]
  },
  {
   "cell_type": "code",
   "execution_count": 16,
   "metadata": {},
   "outputs": [
    {
     "data": {
      "text/plain": [
       "(60000, 1025)"
      ]
     },
     "execution_count": 16,
     "metadata": {},
     "output_type": "execute_result"
    }
   ],
   "source": [
    "new_A_bias.shape"
   ]
  },
  {
   "cell_type": "code",
   "execution_count": 17,
   "metadata": {},
   "outputs": [
    {
     "name": "stdout",
     "output_type": "stream",
     "text": [
      "[[ 1.          0.         13.02364076 ...  0.          0.\n",
      "   0.        ]\n",
      " [ 1.          0.         11.17808605 ...  0.          0.\n",
      "   0.        ]\n",
      " [ 1.          1.16223899  0.         ...  0.          5.978483\n",
      "  16.05406721]\n",
      " ...\n",
      " [ 1.          9.15504217 34.76248681 ...  0.          0.\n",
      "   0.        ]\n",
      " [ 1.         14.70890575  0.         ...  0.          0.\n",
      "   3.74390344]\n",
      " [ 1.         11.3635804   7.97119556 ...  0.          0.\n",
      "   0.        ]]\n"
     ]
    }
   ],
   "source": [
    "print(new_A_bias)"
   ]
  },
  {
   "cell_type": "code",
   "execution_count": 18,
   "metadata": {},
   "outputs": [],
   "source": [
    "def classifier(digit):\n",
    "    \n",
    "    for i in range(tr_y_bin.shape[0]):\n",
    "        if tr_y[i][0] == digit:\n",
    "            tr_y_bin[i][0] =  1\n",
    "        else:\n",
    "            tr_y_bin[i][0] = -1\n",
    "\n",
    "        \n",
    "    yy = tr_y_bin[:number] \n",
    "\n",
    "    Beta = np.dot(np.dot(lin.inv(np.dot(new_A_bias.T, new_A_bias)), new_A_bias.T), yy)\n",
    "\n",
    "    return Beta\n",
    "\n",
    "    "
   ]
  },
  {
   "cell_type": "code",
   "execution_count": 19,
   "metadata": {},
   "outputs": [],
   "source": [
    "Beta0 = classifier(0)\n",
    "Beta1 = classifier(1)\n",
    "Beta2 = classifier(2)\n",
    "Beta3 = classifier(3)\n",
    "Beta4 = classifier(4)\n",
    "Beta5 = classifier(5)\n",
    "Beta6 = classifier(6)\n",
    "Beta7 = classifier(7)\n",
    "Beta8 = classifier(8)\n",
    "Beta9 = classifier(9)"
   ]
  },
  {
   "cell_type": "markdown",
   "metadata": {},
   "source": [
    "1. Compute an optimal model parameter using the training dataset for each classifier $f_d(x, w)$\n"
   ]
  },
  {
   "cell_type": "code",
   "execution_count": 20,
   "metadata": {},
   "outputs": [
    {
     "name": "stdout",
     "output_type": "stream",
     "text": [
      "[[-9.80082513e-01]\n",
      " [ 7.21329946e-04]\n",
      " [-1.64672440e-03]\n",
      " ...\n",
      " [ 2.18516470e-03]\n",
      " [-3.24329618e-03]\n",
      " [-5.23699927e-04]]\n",
      "[[-6.28656680e-01]\n",
      " [-8.47668985e-05]\n",
      " [ 1.74743768e-03]\n",
      " ...\n",
      " [-3.58556644e-04]\n",
      " [-7.40909840e-04]\n",
      " [-1.62172568e-04]]\n",
      "[[-0.84726041]\n",
      " [-0.00164361]\n",
      " [ 0.00461456]\n",
      " ...\n",
      " [-0.00089012]\n",
      " [-0.00126408]\n",
      " [-0.00096525]]\n",
      "[[-1.03116992e+00]\n",
      " [ 1.44100886e-03]\n",
      " [-7.30771137e-04]\n",
      " ...\n",
      " [-4.92399544e-03]\n",
      " [ 8.74749040e-04]\n",
      " [-2.75820697e-06]]\n",
      "[[-6.47406019e-01]\n",
      " [ 2.52344651e-03]\n",
      " [-1.61817731e-03]\n",
      " ...\n",
      " [ 2.59439564e-03]\n",
      " [-1.25696941e-03]\n",
      " [-1.55498302e-05]]\n",
      "[[-5.89585197e-01]\n",
      " [-1.45097308e-03]\n",
      " [-1.05216672e-03]\n",
      " ...\n",
      " [-1.43146642e-03]\n",
      " [ 1.24811219e-03]\n",
      " [-2.48862311e-04]]\n",
      "[[-1.01139294e+00]\n",
      " [ 2.33280081e-03]\n",
      " [-1.67563063e-03]\n",
      " ...\n",
      " [-9.33661799e-04]\n",
      " [-3.25654821e-04]\n",
      " [ 1.64154831e-03]]\n",
      "[[-6.81006629e-01]\n",
      " [-6.67964010e-04]\n",
      " [ 3.27117050e-03]\n",
      " ...\n",
      " [ 1.14591246e-03]\n",
      " [ 4.97266873e-03]\n",
      " [ 8.23575879e-04]]\n",
      "[[-7.49044966e-01]\n",
      " [-5.80454175e-04]\n",
      " [ 5.57875332e-04]\n",
      " ...\n",
      " [ 4.33432323e-03]\n",
      " [ 3.70308719e-04]\n",
      " [-4.39199387e-04]]\n",
      "[[-8.34394720e-01]\n",
      " [-2.59081841e-03]\n",
      " [-3.46757048e-03]\n",
      " ...\n",
      " [-1.72200001e-03]\n",
      " [-6.34926852e-04]\n",
      " [-1.07632504e-04]]\n"
     ]
    }
   ],
   "source": [
    "# optimal model parameter for 0~9\n",
    "print(Beta0)\n",
    "print(Beta1)\n",
    "print(Beta2)\n",
    "print(Beta3)\n",
    "print(Beta4)\n",
    "print(Beta5)\n",
    "print(Beta6)\n",
    "print(Beta7)\n",
    "print(Beta8)\n",
    "print(Beta9)"
   ]
  },
  {
   "cell_type": "code",
   "execution_count": 21,
   "metadata": {},
   "outputs": [],
   "source": [
    "pr0 = np.dot(new_A_bias, Beta0)\n",
    "pr1 = np.dot(new_A_bias, Beta1)\n",
    "pr2 = np.dot(new_A_bias, Beta2)\n",
    "pr3 = np.dot(new_A_bias, Beta3)\n",
    "pr4 = np.dot(new_A_bias, Beta4)\n",
    "pr5 = np.dot(new_A_bias, Beta5)\n",
    "pr6 = np.dot(new_A_bias, Beta6)\n",
    "pr7 = np.dot(new_A_bias, Beta7)\n",
    "pr8 = np.dot(new_A_bias, Beta8)\n",
    "pr9 = np.dot(new_A_bias, Beta9)"
   ]
  },
  {
   "cell_type": "code",
   "execution_count": 22,
   "metadata": {},
   "outputs": [],
   "source": [
    "arg = np.column_stack((pr0, pr1, pr2, pr3, pr4, pr5, pr6, pr7, pr8, pr9))"
   ]
  },
  {
   "cell_type": "code",
   "execution_count": 23,
   "metadata": {},
   "outputs": [],
   "source": [
    "max_index_list =[]\n",
    "for i in range(new_A_bias.shape[0]):\n",
    "    max_index_list.append(np.argmax(arg[i]))"
   ]
  },
  {
   "cell_type": "code",
   "execution_count": 24,
   "metadata": {},
   "outputs": [
    {
     "data": {
      "text/plain": [
       "array([0, 1, 2, 3, 4, 5, 6, 7, 8, 9], dtype=int64)"
      ]
     },
     "execution_count": 24,
     "metadata": {},
     "output_type": "execute_result"
    }
   ],
   "source": [
    "np.unique(max_index_list)"
   ]
  },
  {
   "cell_type": "code",
   "execution_count": 25,
   "metadata": {},
   "outputs": [
    {
     "data": {
      "text/plain": [
       "[5,\n",
       " 0,\n",
       " 4,\n",
       " 1,\n",
       " 9,\n",
       " 2,\n",
       " 1,\n",
       " 3,\n",
       " 1,\n",
       " 4,\n",
       " 3,\n",
       " 5,\n",
       " 3,\n",
       " 6,\n",
       " 1,\n",
       " 7,\n",
       " 2,\n",
       " 8,\n",
       " 6,\n",
       " 9,\n",
       " 4,\n",
       " 0,\n",
       " 9,\n",
       " 1,\n",
       " 7,\n",
       " 2,\n",
       " 4,\n",
       " 3,\n",
       " 7,\n",
       " 7,\n",
       " 3,\n",
       " 8,\n",
       " 6,\n",
       " 9,\n",
       " 0,\n",
       " 5,\n",
       " 6,\n",
       " 0,\n",
       " 7,\n",
       " 6,\n",
       " 1,\n",
       " 8,\n",
       " 7,\n",
       " 9,\n",
       " 3,\n",
       " 9,\n",
       " 8,\n",
       " 5,\n",
       " 5,\n",
       " 3,\n",
       " 3,\n",
       " 0,\n",
       " 7,\n",
       " 4,\n",
       " 4,\n",
       " 8,\n",
       " 0,\n",
       " 9,\n",
       " 4,\n",
       " 1,\n",
       " 4,\n",
       " 4,\n",
       " 6,\n",
       " 0,\n",
       " 4,\n",
       " 5,\n",
       " 6,\n",
       " 1,\n",
       " 0,\n",
       " 0,\n",
       " 1,\n",
       " 7,\n",
       " 1,\n",
       " 6,\n",
       " 3,\n",
       " 0,\n",
       " 2,\n",
       " 1,\n",
       " 1,\n",
       " 7,\n",
       " 8,\n",
       " 0,\n",
       " 2,\n",
       " 6,\n",
       " 7,\n",
       " 8,\n",
       " 3,\n",
       " 9,\n",
       " 0,\n",
       " 4,\n",
       " 6,\n",
       " 7,\n",
       " 4,\n",
       " 6,\n",
       " 8,\n",
       " 0,\n",
       " 7,\n",
       " 8,\n",
       " 3,\n",
       " 1,\n",
       " 5,\n",
       " 7,\n",
       " 1,\n",
       " 7,\n",
       " 1,\n",
       " 1,\n",
       " 6,\n",
       " 3,\n",
       " 0,\n",
       " 2,\n",
       " 9,\n",
       " 3,\n",
       " 1,\n",
       " 1,\n",
       " 0,\n",
       " 4,\n",
       " 9,\n",
       " 2,\n",
       " 0,\n",
       " 0,\n",
       " 2,\n",
       " 0,\n",
       " 2,\n",
       " 7,\n",
       " 1,\n",
       " 8,\n",
       " 6,\n",
       " 4,\n",
       " 1,\n",
       " 6,\n",
       " 3,\n",
       " 4,\n",
       " 1,\n",
       " 9,\n",
       " 5,\n",
       " 3,\n",
       " 3,\n",
       " 8,\n",
       " 5,\n",
       " 4,\n",
       " 7,\n",
       " 7,\n",
       " 4,\n",
       " 2,\n",
       " 8,\n",
       " 5,\n",
       " 8,\n",
       " 6,\n",
       " 4,\n",
       " 3,\n",
       " 4,\n",
       " 6,\n",
       " 1,\n",
       " 9,\n",
       " 9,\n",
       " 6,\n",
       " 0,\n",
       " 3,\n",
       " 7,\n",
       " 2,\n",
       " 8,\n",
       " 2,\n",
       " 9,\n",
       " 4,\n",
       " 4,\n",
       " 6,\n",
       " 4,\n",
       " 9,\n",
       " 7,\n",
       " 0,\n",
       " 9,\n",
       " 2,\n",
       " 7,\n",
       " 5,\n",
       " 1,\n",
       " 5,\n",
       " 9,\n",
       " 1,\n",
       " 2,\n",
       " 3,\n",
       " 1,\n",
       " 3,\n",
       " 5,\n",
       " 9,\n",
       " 1,\n",
       " 7,\n",
       " 6,\n",
       " 2,\n",
       " 8,\n",
       " 2,\n",
       " 2,\n",
       " 5,\n",
       " 0,\n",
       " 7,\n",
       " 4,\n",
       " 9,\n",
       " 7,\n",
       " 8,\n",
       " 3,\n",
       " 2,\n",
       " 1,\n",
       " 1,\n",
       " 5,\n",
       " 3,\n",
       " 6,\n",
       " 1,\n",
       " 0,\n",
       " 3,\n",
       " 1,\n",
       " 0,\n",
       " 0,\n",
       " 1,\n",
       " 1,\n",
       " 2,\n",
       " 7,\n",
       " 3,\n",
       " 0,\n",
       " 4,\n",
       " 6,\n",
       " 5,\n",
       " 2,\n",
       " 6,\n",
       " 4,\n",
       " 7,\n",
       " 8,\n",
       " 8,\n",
       " 9,\n",
       " 9,\n",
       " 5,\n",
       " 0,\n",
       " 7,\n",
       " 1,\n",
       " 0,\n",
       " 2,\n",
       " 0,\n",
       " 3,\n",
       " 5,\n",
       " 4,\n",
       " 6,\n",
       " 5,\n",
       " 1,\n",
       " 6,\n",
       " 3,\n",
       " 7,\n",
       " 5,\n",
       " 8,\n",
       " 0,\n",
       " 9,\n",
       " 1,\n",
       " 0,\n",
       " 6,\n",
       " 1,\n",
       " 2,\n",
       " 2,\n",
       " 3,\n",
       " 3,\n",
       " 6,\n",
       " 4,\n",
       " 7,\n",
       " 5,\n",
       " 0,\n",
       " 6,\n",
       " 2,\n",
       " 7,\n",
       " 9,\n",
       " 8,\n",
       " 5,\n",
       " 9,\n",
       " 7,\n",
       " 1,\n",
       " 1,\n",
       " 4,\n",
       " 4,\n",
       " 5,\n",
       " 6,\n",
       " 4,\n",
       " 1,\n",
       " 2,\n",
       " 6,\n",
       " 3,\n",
       " 9,\n",
       " 3,\n",
       " 4,\n",
       " 0,\n",
       " 5,\n",
       " 9,\n",
       " 6,\n",
       " 5,\n",
       " 7,\n",
       " 4,\n",
       " 1,\n",
       " 3,\n",
       " 4,\n",
       " 0,\n",
       " 4,\n",
       " 8,\n",
       " 0,\n",
       " 4,\n",
       " 3,\n",
       " 6,\n",
       " 8,\n",
       " 7,\n",
       " 6,\n",
       " 0,\n",
       " 9,\n",
       " 7,\n",
       " 5,\n",
       " 7,\n",
       " 2,\n",
       " 1,\n",
       " 1,\n",
       " 6,\n",
       " 8,\n",
       " 9,\n",
       " 4,\n",
       " 1,\n",
       " 5,\n",
       " 2,\n",
       " 2,\n",
       " 9,\n",
       " 0,\n",
       " 3,\n",
       " 9,\n",
       " 6,\n",
       " 7,\n",
       " 2,\n",
       " 0,\n",
       " 3,\n",
       " 5,\n",
       " 4,\n",
       " 3,\n",
       " 6,\n",
       " 5,\n",
       " 8,\n",
       " 9,\n",
       " 5,\n",
       " 4,\n",
       " 7,\n",
       " 4,\n",
       " 2,\n",
       " 3,\n",
       " 3,\n",
       " 4,\n",
       " 8,\n",
       " 9,\n",
       " 1,\n",
       " 3,\n",
       " 2,\n",
       " 8,\n",
       " 7,\n",
       " 9,\n",
       " 1,\n",
       " 8,\n",
       " 7,\n",
       " 4,\n",
       " 1,\n",
       " 3,\n",
       " 1,\n",
       " 1,\n",
       " 0,\n",
       " 2,\n",
       " 3,\n",
       " 9,\n",
       " 4,\n",
       " 9,\n",
       " 2,\n",
       " 1,\n",
       " 6,\n",
       " 8,\n",
       " 4,\n",
       " 1,\n",
       " 7,\n",
       " 4,\n",
       " 4,\n",
       " 9,\n",
       " 2,\n",
       " 5,\n",
       " 7,\n",
       " 2,\n",
       " 4,\n",
       " 4,\n",
       " 2,\n",
       " 1,\n",
       " 9,\n",
       " 4,\n",
       " 2,\n",
       " 8,\n",
       " 7,\n",
       " 6,\n",
       " 9,\n",
       " 2,\n",
       " 2,\n",
       " 3,\n",
       " 8,\n",
       " 1,\n",
       " 6,\n",
       " 3,\n",
       " 1,\n",
       " 1,\n",
       " 0,\n",
       " 2,\n",
       " 6,\n",
       " 4,\n",
       " 5,\n",
       " 3,\n",
       " 3,\n",
       " 1,\n",
       " 5,\n",
       " 1,\n",
       " 9,\n",
       " 2,\n",
       " 7,\n",
       " 4,\n",
       " 4,\n",
       " 4,\n",
       " 8,\n",
       " 1,\n",
       " 5,\n",
       " 5,\n",
       " 9,\n",
       " 5,\n",
       " 6,\n",
       " 7,\n",
       " 9,\n",
       " 9,\n",
       " 3,\n",
       " 7,\n",
       " 0,\n",
       " 9,\n",
       " 0,\n",
       " 6,\n",
       " 6,\n",
       " 2,\n",
       " 3,\n",
       " 9,\n",
       " 0,\n",
       " 7,\n",
       " 5,\n",
       " 4,\n",
       " 8,\n",
       " 0,\n",
       " 9,\n",
       " 4,\n",
       " 1,\n",
       " 1,\n",
       " 8,\n",
       " 7,\n",
       " 1,\n",
       " 2,\n",
       " 6,\n",
       " 1,\n",
       " 0,\n",
       " 3,\n",
       " 0,\n",
       " 1,\n",
       " 1,\n",
       " 8,\n",
       " 2,\n",
       " 0,\n",
       " 3,\n",
       " 9,\n",
       " 4,\n",
       " 0,\n",
       " 5,\n",
       " 0,\n",
       " 6,\n",
       " 1,\n",
       " 7,\n",
       " 7,\n",
       " 8,\n",
       " 1,\n",
       " 9,\n",
       " 2,\n",
       " 0,\n",
       " 5,\n",
       " 1,\n",
       " 2,\n",
       " 2,\n",
       " 7,\n",
       " 3,\n",
       " 5,\n",
       " 4,\n",
       " 9,\n",
       " 7,\n",
       " 1,\n",
       " 8,\n",
       " 3,\n",
       " 9,\n",
       " 6,\n",
       " 0,\n",
       " 3,\n",
       " 1,\n",
       " 1,\n",
       " 2,\n",
       " 0,\n",
       " 3,\n",
       " 5,\n",
       " 7,\n",
       " 6,\n",
       " 8,\n",
       " 7,\n",
       " 8,\n",
       " 5,\n",
       " 8,\n",
       " 5,\n",
       " 7,\n",
       " 6,\n",
       " 1,\n",
       " 1,\n",
       " 3,\n",
       " 1,\n",
       " 7,\n",
       " 5,\n",
       " 5,\n",
       " 3,\n",
       " 2,\n",
       " 5,\n",
       " 8,\n",
       " 7,\n",
       " 0,\n",
       " 9,\n",
       " 7,\n",
       " 7,\n",
       " 5,\n",
       " 0,\n",
       " 9,\n",
       " 0,\n",
       " 0,\n",
       " 2,\n",
       " 9,\n",
       " 2,\n",
       " 4,\n",
       " 8,\n",
       " 1,\n",
       " 6,\n",
       " 1,\n",
       " 6,\n",
       " 5,\n",
       " 1,\n",
       " 8,\n",
       " 3,\n",
       " 4,\n",
       " 0,\n",
       " 5,\n",
       " 5,\n",
       " 8,\n",
       " 3,\n",
       " 6,\n",
       " 2,\n",
       " 3,\n",
       " 9,\n",
       " 2,\n",
       " 1,\n",
       " 1,\n",
       " 5,\n",
       " 2,\n",
       " 1,\n",
       " 3,\n",
       " 2,\n",
       " 8,\n",
       " 7,\n",
       " 3,\n",
       " 7,\n",
       " 2,\n",
       " 4,\n",
       " 6,\n",
       " 9,\n",
       " 7,\n",
       " 2,\n",
       " 4,\n",
       " 2,\n",
       " 8,\n",
       " 1,\n",
       " 1,\n",
       " 3,\n",
       " 8,\n",
       " 4,\n",
       " 0,\n",
       " 6,\n",
       " 5,\n",
       " 9,\n",
       " 3,\n",
       " 0,\n",
       " 9,\n",
       " 2,\n",
       " 4,\n",
       " 7,\n",
       " 1,\n",
       " 8,\n",
       " 9,\n",
       " 4,\n",
       " 2,\n",
       " 6,\n",
       " 1,\n",
       " 8,\n",
       " 9,\n",
       " 0,\n",
       " 6,\n",
       " 6,\n",
       " 7,\n",
       " 9,\n",
       " 9,\n",
       " 3,\n",
       " 0,\n",
       " 1,\n",
       " 4,\n",
       " 4,\n",
       " 6,\n",
       " 7,\n",
       " 1,\n",
       " 5,\n",
       " 7,\n",
       " 0,\n",
       " 3,\n",
       " 5,\n",
       " 8,\n",
       " 4,\n",
       " 7,\n",
       " 1,\n",
       " 2,\n",
       " 5,\n",
       " 9,\n",
       " 5,\n",
       " 6,\n",
       " 7,\n",
       " 5,\n",
       " 4,\n",
       " 9,\n",
       " 8,\n",
       " 3,\n",
       " 6,\n",
       " 8,\n",
       " 7,\n",
       " 0,\n",
       " 7,\n",
       " 2,\n",
       " 7,\n",
       " 1,\n",
       " 1,\n",
       " 0,\n",
       " 7,\n",
       " 9,\n",
       " 2,\n",
       " 3,\n",
       " 1,\n",
       " 3,\n",
       " 2,\n",
       " 4,\n",
       " 1,\n",
       " 6,\n",
       " 2,\n",
       " 7,\n",
       " 5,\n",
       " 5,\n",
       " 7,\n",
       " 4,\n",
       " 0,\n",
       " 2,\n",
       " 6,\n",
       " 3,\n",
       " 6,\n",
       " 4,\n",
       " 0,\n",
       " 4,\n",
       " 2,\n",
       " 6,\n",
       " 0,\n",
       " 0,\n",
       " 0,\n",
       " 0,\n",
       " 2,\n",
       " 1,\n",
       " 6,\n",
       " 2,\n",
       " 2,\n",
       " 3,\n",
       " 1,\n",
       " 4,\n",
       " 1,\n",
       " 5,\n",
       " 4,\n",
       " 6,\n",
       " 4,\n",
       " 7,\n",
       " 2,\n",
       " 8,\n",
       " 7,\n",
       " 9,\n",
       " 2,\n",
       " 0,\n",
       " 5,\n",
       " 1,\n",
       " 4,\n",
       " 2,\n",
       " 8,\n",
       " 3,\n",
       " 2,\n",
       " 4,\n",
       " 1,\n",
       " 5,\n",
       " 4,\n",
       " 6,\n",
       " 0,\n",
       " 7,\n",
       " 2,\n",
       " 8,\n",
       " 4,\n",
       " 9,\n",
       " 8,\n",
       " 0,\n",
       " 1,\n",
       " 1,\n",
       " 0,\n",
       " 2,\n",
       " 2,\n",
       " 3,\n",
       " 2,\n",
       " 4,\n",
       " 4,\n",
       " 5,\n",
       " 1,\n",
       " 6,\n",
       " 5,\n",
       " 7,\n",
       " 7,\n",
       " 8,\n",
       " 8,\n",
       " 9,\n",
       " 7,\n",
       " 4,\n",
       " 7,\n",
       " 3,\n",
       " 2,\n",
       " 0,\n",
       " 8,\n",
       " 6,\n",
       " 3,\n",
       " 6,\n",
       " 1,\n",
       " 6,\n",
       " 3,\n",
       " 9,\n",
       " 4,\n",
       " 0,\n",
       " 9,\n",
       " 0,\n",
       " 4,\n",
       " 1,\n",
       " 5,\n",
       " 9,\n",
       " 7,\n",
       " 5,\n",
       " 3,\n",
       " 7,\n",
       " 4,\n",
       " 9,\n",
       " 8,\n",
       " 5,\n",
       " 8,\n",
       " 6,\n",
       " 3,\n",
       " 8,\n",
       " 6,\n",
       " 9,\n",
       " 9,\n",
       " 1,\n",
       " 8,\n",
       " 3,\n",
       " 5,\n",
       " 8,\n",
       " 6,\n",
       " 5,\n",
       " 9,\n",
       " 7,\n",
       " 2,\n",
       " 5,\n",
       " 0,\n",
       " 8,\n",
       " 4,\n",
       " 1,\n",
       " 1,\n",
       " 0,\n",
       " 9,\n",
       " 1,\n",
       " 8,\n",
       " 6,\n",
       " 7,\n",
       " 0,\n",
       " 4,\n",
       " 3,\n",
       " 0,\n",
       " 8,\n",
       " 8,\n",
       " 9,\n",
       " 6,\n",
       " 7,\n",
       " 8,\n",
       " 4,\n",
       " 7,\n",
       " 5,\n",
       " 9,\n",
       " 2,\n",
       " 6,\n",
       " 7,\n",
       " 4,\n",
       " 5,\n",
       " 9,\n",
       " 2,\n",
       " 3,\n",
       " 1,\n",
       " 6,\n",
       " 3,\n",
       " 9,\n",
       " 2,\n",
       " 2,\n",
       " 5,\n",
       " 6,\n",
       " 8,\n",
       " 0,\n",
       " 7,\n",
       " 7,\n",
       " 1,\n",
       " 9,\n",
       " 8,\n",
       " 7,\n",
       " 0,\n",
       " 9,\n",
       " 9,\n",
       " 9,\n",
       " 6,\n",
       " 2,\n",
       " 8,\n",
       " 5,\n",
       " 1,\n",
       " 4,\n",
       " 1,\n",
       " 5,\n",
       " 5,\n",
       " 1,\n",
       " 7,\n",
       " 3,\n",
       " 6,\n",
       " 4,\n",
       " 3,\n",
       " 2,\n",
       " 5,\n",
       " 5,\n",
       " 4,\n",
       " 4,\n",
       " 0,\n",
       " 6,\n",
       " 4,\n",
       " 6,\n",
       " 7,\n",
       " 7,\n",
       " 4,\n",
       " 3,\n",
       " 3,\n",
       " 8,\n",
       " 0,\n",
       " 0,\n",
       " 3,\n",
       " 2,\n",
       " 2,\n",
       " 9,\n",
       " 8,\n",
       " 7,\n",
       " 3,\n",
       " 7,\n",
       " 0,\n",
       " 1,\n",
       " 1,\n",
       " 0,\n",
       " 2,\n",
       " 3,\n",
       " 3,\n",
       " 8,\n",
       " 4,\n",
       " 3,\n",
       " 5,\n",
       " 7,\n",
       " 6,\n",
       " 4,\n",
       " 7,\n",
       " 1,\n",
       " 8,\n",
       " 5,\n",
       " 9,\n",
       " 7,\n",
       " 0,\n",
       " 3,\n",
       " 1,\n",
       " 2,\n",
       " 2,\n",
       " 4,\n",
       " 3,\n",
       " 4,\n",
       " 4,\n",
       " 7,\n",
       " 5,\n",
       " 9,\n",
       " 6,\n",
       " 0,\n",
       " 0,\n",
       " 7,\n",
       " 1,\n",
       " 4,\n",
       " 2,\n",
       " 7,\n",
       " 3,\n",
       " 6,\n",
       " 7,\n",
       " 5,\n",
       " 8,\n",
       " 4,\n",
       " 5,\n",
       " 6,\n",
       " 2,\n",
       " 7,\n",
       " 1,\n",
       " 1,\n",
       " 5,\n",
       " 6,\n",
       " 8,\n",
       " 5,\n",
       " 8,\n",
       " 4,\n",
       " 0,\n",
       " 7,\n",
       " 9,\n",
       " 9,\n",
       " 2,\n",
       " 9,\n",
       " 7,\n",
       " 7,\n",
       " 5,\n",
       " 7,\n",
       " 4,\n",
       " 2,\n",
       " 6,\n",
       " 9,\n",
       " 1,\n",
       " 7,\n",
       " 0,\n",
       " 6,\n",
       " 4,\n",
       " 8,\n",
       " 5,\n",
       " 7,\n",
       " 0,\n",
       " 7,\n",
       " 1,\n",
       " 0,\n",
       " 3,\n",
       " 7,\n",
       " 6,\n",
       " 5,\n",
       " 0,\n",
       " 6,\n",
       " 1,\n",
       " 5,\n",
       " 1,\n",
       " 7,\n",
       " 8,\n",
       " 5,\n",
       " 0,\n",
       " 6,\n",
       " 4,\n",
       " 7,\n",
       " 7,\n",
       " 5,\n",
       " 7,\n",
       " 8,\n",
       " 6,\n",
       " 9,\n",
       " 3,\n",
       " 8,\n",
       " 6,\n",
       " 1,\n",
       " 0,\n",
       " 9,\n",
       " 7,\n",
       " 1,\n",
       " 3,\n",
       " 0,\n",
       " 5,\n",
       " 6,\n",
       " 4,\n",
       " 4,\n",
       " 2,\n",
       " 4,\n",
       " 4,\n",
       " 3,\n",
       " 1,\n",
       " 7,\n",
       " 4,\n",
       " 6,\n",
       " 0,\n",
       " 3,\n",
       " 6,\n",
       " ...]"
      ]
     },
     "execution_count": 25,
     "metadata": {},
     "output_type": "execute_result"
    }
   ],
   "source": [
    "max_index_list"
   ]
  },
  {
   "cell_type": "code",
   "execution_count": 26,
   "metadata": {},
   "outputs": [
    {
     "name": "stdout",
     "output_type": "stream",
     "text": [
      "      y_Actual  y_Predicted\n",
      "0          [5]            5\n",
      "1          [0]            0\n",
      "2          [4]            4\n",
      "3          [1]            1\n",
      "4          [9]            9\n",
      "5          [2]            2\n",
      "6          [1]            1\n",
      "7          [3]            3\n",
      "8          [1]            1\n",
      "9          [4]            4\n",
      "10         [3]            3\n",
      "11         [5]            5\n",
      "12         [3]            3\n",
      "13         [6]            6\n",
      "14         [1]            1\n",
      "15         [7]            7\n",
      "16         [2]            2\n",
      "17         [8]            8\n",
      "18         [6]            6\n",
      "19         [9]            9\n",
      "20         [4]            4\n",
      "21         [0]            0\n",
      "22         [9]            9\n",
      "23         [1]            1\n",
      "24         [1]            7\n",
      "25         [2]            2\n",
      "26         [4]            4\n",
      "27         [3]            3\n",
      "28         [2]            7\n",
      "29         [7]            7\n",
      "...        ...          ...\n",
      "59970      [2]            2\n",
      "59971      [2]            2\n",
      "59972      [0]            0\n",
      "59973      [9]            9\n",
      "59974      [2]            2\n",
      "59975      [4]            4\n",
      "59976      [6]            6\n",
      "59977      [7]            7\n",
      "59978      [3]            3\n",
      "59979      [1]            1\n",
      "59980      [3]            3\n",
      "59981      [6]            6\n",
      "59982      [6]            6\n",
      "59983      [2]            2\n",
      "59984      [1]            1\n",
      "59985      [2]            2\n",
      "59986      [6]            6\n",
      "59987      [0]            0\n",
      "59988      [7]            7\n",
      "59989      [8]            8\n",
      "59990      [9]            9\n",
      "59991      [2]            2\n",
      "59992      [9]            9\n",
      "59993      [5]            5\n",
      "59994      [1]            1\n",
      "59995      [8]            8\n",
      "59996      [3]            3\n",
      "59997      [5]            5\n",
      "59998      [6]            6\n",
      "59999      [8]            8\n",
      "\n",
      "[60000 rows x 2 columns]\n"
     ]
    }
   ],
   "source": [
    "acutal_y = tr_y.tolist()\n",
    "data = {'y_Predicted': max_index_list,\n",
    "        'y_Actual':    acutal_y\n",
    "        }\n",
    "\n",
    "df = pd.DataFrame(data, columns=['y_Actual','y_Predicted'])\n",
    "print (df)"
   ]
  },
  {
   "cell_type": "code",
   "execution_count": 27,
   "metadata": {},
   "outputs": [],
   "source": [
    "confusion_matrix_tr = confusion_matrix(acutal_y,max_index_list)"
   ]
  },
  {
   "cell_type": "code",
   "execution_count": 28,
   "metadata": {},
   "outputs": [
    {
     "data": {
      "text/plain": [
       "array([[5799,    1,    6,   10,   10,   18,   30,    6,   39,    4],\n",
       "       [   0, 6625,   42,    7,   19,   10,    9,   10,   15,    5],\n",
       "       [  37,   27, 5581,   44,   43,    5,   31,   74,  100,   16],\n",
       "       [  13,   20,   86, 5687,    5,  105,   11,   45,   92,   67],\n",
       "       [   9,   38,   21,    0, 5503,    5,   45,    9,   30,  182],\n",
       "       [  34,   13,   17,  109,   25, 5042,   79,   15,   52,   35],\n",
       "       [  23,   12,   15,    2,   26,   68, 5755,    0,   16,    1],\n",
       "       [  16,   55,   51,   21,   66,    4,    1, 5932,   11,  108],\n",
       "       [  19,   74,   59,   92,   33,  100,   34,   15, 5333,   92],\n",
       "       [  23,   21,   13,   77,  149,   27,    6,  111,   57, 5465]],\n",
       "      dtype=int64)"
      ]
     },
     "execution_count": 28,
     "metadata": {},
     "output_type": "execute_result"
    }
   ],
   "source": [
    "confusion_matrix_tr"
   ]
  },
  {
   "cell_type": "code",
   "execution_count": 29,
   "metadata": {},
   "outputs": [
    {
     "name": "stdout",
     "output_type": "stream",
     "text": [
      "[5923 6742 5958 6131 5842 5421 5918 6265 5851 5949]\n"
     ]
    },
    {
     "data": {
      "text/plain": [
       "0.9447488657951189"
      ]
     },
     "execution_count": 29,
     "metadata": {},
     "output_type": "execute_result"
    }
   ],
   "source": [
    "TP_tr =0\n",
    "r_sum = np.sum(confusion_matrix_tr, axis = 1)\n",
    "print(r_sum)\n",
    "\n",
    "for i in range(confusion_matrix_tr.shape[0]):\n",
    "    TP_tr += confusion_matrix_tr[i][i] / r_sum[i]\n",
    "\n",
    "TP_tr /= 10\n",
    "TP_tr"
   ]
  },
  {
   "cell_type": "code",
   "execution_count": 30,
   "metadata": {},
   "outputs": [
    {
     "data": {
      "text/plain": [
       "0.9447488657951189"
      ]
     },
     "execution_count": 30,
     "metadata": {},
     "output_type": "execute_result"
    }
   ],
   "source": [
    "TP_tr"
   ]
  },
  {
   "cell_type": "code",
   "execution_count": 31,
   "metadata": {},
   "outputs": [],
   "source": [
    "Error_tr = 1- np.trace(confusion_matrix_tr)/ sum(sum(confusion_matrix_tr))"
   ]
  },
  {
   "cell_type": "code",
   "execution_count": 32,
   "metadata": {},
   "outputs": [
    {
     "data": {
      "text/plain": [
       "0.05463333333333331"
      ]
     },
     "execution_count": 32,
     "metadata": {},
     "output_type": "execute_result"
    }
   ],
   "source": [
    "Error_tr"
   ]
  },
  {
   "cell_type": "markdown",
   "metadata": {},
   "source": [
    "2. Compute (1) true positive rate, (2) error rate using (1) training dataset"
   ]
  },
  {
   "cell_type": "code",
   "execution_count": 33,
   "metadata": {},
   "outputs": [
    {
     "name": "stdout",
     "output_type": "stream",
     "text": [
      "train TP Rate : 0.9447488657951189\n",
      "train Error Rate : 0.05463333333333331\n"
     ]
    }
   ],
   "source": [
    "print(\"train TP Rate : \" + str(TP_tr))\n",
    "print(\"train Error Rate : \" + str(Error_tr))\n"
   ]
  },
  {
   "cell_type": "markdown",
   "metadata": {},
   "source": [
    "# Test set"
   ]
  },
  {
   "cell_type": "code",
   "execution_count": 34,
   "metadata": {},
   "outputs": [],
   "source": [
    "ts = pd.read_csv(\"mnist_test.csv\", header=-1)"
   ]
  },
  {
   "cell_type": "code",
   "execution_count": 35,
   "metadata": {},
   "outputs": [],
   "source": [
    "ts_data = np.array(ts)"
   ]
  },
  {
   "cell_type": "code",
   "execution_count": 36,
   "metadata": {},
   "outputs": [],
   "source": [
    "ts_y, ts_x = np.split(ts_data, [1], axis=1)\n",
    "ts_y_bin = copy.copy(ts_y)"
   ]
  },
  {
   "cell_type": "code",
   "execution_count": 37,
   "metadata": {},
   "outputs": [],
   "source": [
    "number= 10000\n",
    "ts_x_shortort = ts_x[:number]\n",
    "yy_s = ts_y_bin[:number]"
   ]
  },
  {
   "cell_type": "code",
   "execution_count": 38,
   "metadata": {},
   "outputs": [],
   "source": [
    "ts_x_scale = min_max(ts_x_shortort)"
   ]
  },
  {
   "cell_type": "code",
   "execution_count": 39,
   "metadata": {},
   "outputs": [
    {
     "name": "stdout",
     "output_type": "stream",
     "text": [
      "[[ 0.16718117  2.33697363  0.09928906 ... -1.2831629   1.03461766\n",
      "   2.2791477 ]\n",
      " [-2.5368328  -1.73690939  0.9539526  ... -1.66389915  2.27111837\n",
      "  -0.1056068 ]\n",
      " [-1.74532837  3.32412085 -0.92245299 ... -4.04030082 -1.18541428\n",
      "   1.34487052]\n",
      " ...\n",
      " [ 0.06410326  0.48757782 -1.3757681  ... -2.09029987  0.91268835\n",
      "  -0.01466575]\n",
      " [-2.61534795  3.09261799 -0.28570716 ...  3.0392785  -0.08492525\n",
      "   4.54717347]\n",
      " [ 3.31715881  0.94884237 -2.17896365 ... -0.38151747 -2.06677172\n",
      "  -0.96716698]]\n"
     ]
    }
   ],
   "source": [
    "print(aa)"
   ]
  },
  {
   "cell_type": "code",
   "execution_count": 40,
   "metadata": {},
   "outputs": [],
   "source": [
    "new_A_ts = np.dot(ts_x_scale, aa.T)"
   ]
  },
  {
   "cell_type": "code",
   "execution_count": 41,
   "metadata": {},
   "outputs": [],
   "source": [
    "new_A_sign_ts = random_array_sign(new_A_ts)"
   ]
  },
  {
   "cell_type": "code",
   "execution_count": 42,
   "metadata": {},
   "outputs": [],
   "source": [
    "new_A_bias_ts = add_bias(new_A_sign_ts)"
   ]
  },
  {
   "cell_type": "code",
   "execution_count": 43,
   "metadata": {},
   "outputs": [
    {
     "data": {
      "text/plain": [
       "(10000, 1025)"
      ]
     },
     "execution_count": 43,
     "metadata": {},
     "output_type": "execute_result"
    }
   ],
   "source": [
    "new_A_bias_ts.shape"
   ]
  },
  {
   "cell_type": "code",
   "execution_count": 44,
   "metadata": {},
   "outputs": [
    {
     "data": {
      "text/plain": [
       "(1025, 1)"
      ]
     },
     "execution_count": 44,
     "metadata": {},
     "output_type": "execute_result"
    }
   ],
   "source": [
    "Beta0.shape"
   ]
  },
  {
   "cell_type": "code",
   "execution_count": 45,
   "metadata": {},
   "outputs": [
    {
     "data": {
      "text/plain": [
       "array([0, 1, 2, 3, 4, 5, 6, 7, 8, 9], dtype=int64)"
      ]
     },
     "execution_count": 45,
     "metadata": {},
     "output_type": "execute_result"
    }
   ],
   "source": [
    "np.unique(ts_y)"
   ]
  },
  {
   "cell_type": "code",
   "execution_count": 46,
   "metadata": {},
   "outputs": [],
   "source": [
    "pr_s0 = np.dot(new_A_bias_ts, Beta0)\n",
    "pr_s1 = np.dot(new_A_bias_ts, Beta1)\n",
    "pr_s2 = np.dot(new_A_bias_ts, Beta2)\n",
    "pr_s3 = np.dot(new_A_bias_ts, Beta3)\n",
    "pr_s4 = np.dot(new_A_bias_ts, Beta4)\n",
    "pr_s5 = np.dot(new_A_bias_ts, Beta5)\n",
    "pr_s6 = np.dot(new_A_bias_ts, Beta6)\n",
    "pr_s7 = np.dot(new_A_bias_ts, Beta7)\n",
    "pr_s8 = np.dot(new_A_bias_ts, Beta8)\n",
    "pr_s9 = np.dot(new_A_bias_ts, Beta9)"
   ]
  },
  {
   "cell_type": "code",
   "execution_count": 47,
   "metadata": {},
   "outputs": [],
   "source": [
    "arg_s = np.column_stack((pr_s0, pr_s1, pr_s2, pr_s3, pr_s4, pr_s5, pr_s6, pr_s7, pr_s8, pr_s9))"
   ]
  },
  {
   "cell_type": "code",
   "execution_count": 48,
   "metadata": {},
   "outputs": [],
   "source": [
    "max_index_list_s =[]\n",
    "for i in range(new_A_bias_ts.shape[0]):\n",
    "    max_index_list_s.append(np.argmax(arg_s[i]))"
   ]
  },
  {
   "cell_type": "code",
   "execution_count": 49,
   "metadata": {},
   "outputs": [
    {
     "data": {
      "text/plain": [
       "array([0, 1, 2, 3, 4, 5, 6, 7, 8, 9], dtype=int64)"
      ]
     },
     "execution_count": 49,
     "metadata": {},
     "output_type": "execute_result"
    }
   ],
   "source": [
    "np.unique(max_index_list_s)"
   ]
  },
  {
   "cell_type": "code",
   "execution_count": 50,
   "metadata": {},
   "outputs": [],
   "source": [
    "acutal_y_s = ts_y.tolist()\n",
    "data_s = {'y_Predicted': max_index_list_s,\n",
    "        'y_Actual':    acutal_y_s\n",
    "        }\n",
    "\n",
    "df_s = pd.DataFrame(data_s, columns=['y_Actual','y_Predicted'])\n",
    "#print (df_s)"
   ]
  },
  {
   "cell_type": "code",
   "execution_count": 51,
   "metadata": {},
   "outputs": [],
   "source": [
    "confusion_matrix_ts = confusion_matrix(acutal_y_s,max_index_list_s)"
   ]
  },
  {
   "cell_type": "code",
   "execution_count": 52,
   "metadata": {},
   "outputs": [
    {
     "data": {
      "text/plain": [
       "array([[ 960,    0,    0,    0,    1,    2,    7,    2,    7,    1],\n",
       "       [   0, 1122,    4,    1,    1,    0,    4,    1,    2,    0],\n",
       "       [  11,    4,  957,    8,   11,    1,    6,   12,   17,    5],\n",
       "       [   0,    1,   14,  944,    0,   20,    2,   11,   12,    6],\n",
       "       [   2,    2,    4,    0,  923,    1,    6,    1,    8,   35],\n",
       "       [   7,    0,    0,   18,    7,  826,   14,    7,   11,    2],\n",
       "       [   6,    3,    2,    1,   10,   14,  919,    1,    2,    0],\n",
       "       [   1,   14,   17,    3,    8,    1,    0,  960,    2,   22],\n",
       "       [   7,    1,    6,   12,    8,   17,   10,    7,  893,   13],\n",
       "       [   6,    6,    1,   10,   24,    6,    1,   17,    6,  932]],\n",
       "      dtype=int64)"
      ]
     },
     "execution_count": 52,
     "metadata": {},
     "output_type": "execute_result"
    }
   ],
   "source": [
    "confusion_matrix_ts"
   ]
  },
  {
   "cell_type": "code",
   "execution_count": 53,
   "metadata": {},
   "outputs": [
    {
     "name": "stdout",
     "output_type": "stream",
     "text": [
      "[ 980 1135 1032 1010  982  892  958 1028  974 1009]\n"
     ]
    },
    {
     "data": {
      "text/plain": [
       "0.9429711570140371"
      ]
     },
     "execution_count": 53,
     "metadata": {},
     "output_type": "execute_result"
    }
   ],
   "source": [
    "TP_ts =0\n",
    "r_sum_s = np.sum(confusion_matrix_ts, axis = 1)\n",
    "print(r_sum_s)\n",
    "\n",
    "for i in range(confusion_matrix_ts.shape[0]):\n",
    "    TP_ts += confusion_matrix_ts[i][i] / r_sum_s[i]\n",
    "\n",
    "TP_ts /= 10\n",
    "TP_ts"
   ]
  },
  {
   "cell_type": "code",
   "execution_count": 54,
   "metadata": {},
   "outputs": [],
   "source": [
    "Error_ts = 1 - np.trace(confusion_matrix_ts)/ sum(sum(confusion_matrix_ts))"
   ]
  },
  {
   "cell_type": "code",
   "execution_count": 55,
   "metadata": {},
   "outputs": [
    {
     "data": {
      "text/plain": [
       "0.056400000000000006"
      ]
     },
     "execution_count": 55,
     "metadata": {},
     "output_type": "execute_result"
    }
   ],
   "source": [
    "Error_ts"
   ]
  },
  {
   "cell_type": "markdown",
   "metadata": {},
   "source": [
    "2. Compute (1) true positive rate, (2) error rate using (2) testing dataset."
   ]
  },
  {
   "cell_type": "code",
   "execution_count": 56,
   "metadata": {},
   "outputs": [
    {
     "name": "stdout",
     "output_type": "stream",
     "text": [
      "test TP Rate : 0.9429711570140371\n",
      "test Error Rate : 0.056400000000000006\n"
     ]
    }
   ],
   "source": [
    "print(\"test TP Rate : \" + str(TP_ts))\n",
    "print(\"test Error Rate : \" + str(Error_ts))\n"
   ]
  }
 ],
 "metadata": {
  "kernelspec": {
   "display_name": "Python 3",
   "language": "python",
   "name": "python3"
  },
  "language_info": {
   "codemirror_mode": {
    "name": "ipython",
    "version": 3
   },
   "file_extension": ".py",
   "mimetype": "text/x-python",
   "name": "python",
   "nbconvert_exporter": "python",
   "pygments_lexer": "ipython3",
   "version": "3.7.3"
  }
 },
 "nbformat": 4,
 "nbformat_minor": 2
}
